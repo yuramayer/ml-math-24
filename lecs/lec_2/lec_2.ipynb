{
 "cells": [
  {
   "cell_type": "markdown",
   "metadata": {},
   "source": [
    "# Матрицы"
   ]
  },
  {
   "cell_type": "markdown",
   "metadata": {},
   "source": [
    "**Матрица** — структура, представляющая собой таблицу, состоящую из чисел, расположенных по строкам и столбцам.\n"
   ]
  },
  {
   "cell_type": "markdown",
   "metadata": {},
   "source": [
    "Числа, стоящие на пересечении строк и столбцов, называются **элементами матрицы**"
   ]
  },
  {
   "cell_type": "markdown",
   "metadata": {},
   "source": [
    "Матрицу можно создать функцией `np.matrix()` или `np.array()`."
   ]
  },
  {
   "cell_type": "code",
   "execution_count": 2,
   "metadata": {},
   "outputs": [],
   "source": [
    "import numpy as np"
   ]
  },
  {
   "cell_type": "code",
   "execution_count": 2,
   "metadata": {},
   "outputs": [
    {
     "data": {
      "text/plain": [
       "array([[ 1, -5,  3],\n",
       "       [ 2,  2,  1],\n",
       "       [ 0,  3,  1],\n",
       "       [ 2,  4, 12]])"
      ]
     },
     "execution_count": 2,
     "metadata": {},
     "output_type": "execute_result"
    }
   ],
   "source": [
    "A = np.array([\n",
    "    [1, -5, 3], \n",
    "    [2, 2, 1],\n",
    "    [0, 3, 1],\n",
    "    [2, 4, 12]\n",
    "])\n",
    "A"
   ]
  },
  {
   "cell_type": "markdown",
   "metadata": {},
   "source": [
    "В матрице четыре строки и три столбца. Говорят, что это матрица 4 x 3. За размерность матрицы отвечает атрибут `shape`:"
   ]
  },
  {
   "cell_type": "code",
   "execution_count": 3,
   "metadata": {},
   "outputs": [
    {
     "data": {
      "text/plain": [
       "(4, 3)"
      ]
     },
     "execution_count": 3,
     "metadata": {},
     "output_type": "execute_result"
    }
   ],
   "source": [
    "A.shape"
   ]
  },
  {
   "cell_type": "markdown",
   "metadata": {},
   "source": [
    "## Классификация матриц по форме"
   ]
  },
  {
   "cell_type": "markdown",
   "metadata": {},
   "source": [
    "#### Прямоугольные матрицы\n",
    "\n",
    "Прямоугольные матрицы - те, у которых количество строк $n$ Не совпадает с количеством столбцов $m$, т.е. $n$ $\\neq$ $m$"
   ]
  },
  {
   "cell_type": "code",
   "execution_count": 5,
   "metadata": {},
   "outputs": [
    {
     "name": "stdout",
     "output_type": "stream",
     "text": [
      "Ниже прямоугольная матрица\n"
     ]
    },
    {
     "data": {
      "text/plain": [
       "array([[ 1, 34, -2],\n",
       "       [ 9,  4,  0]])"
      ]
     },
     "execution_count": 5,
     "metadata": {},
     "output_type": "execute_result"
    }
   ],
   "source": [
    "print('Ниже прямоугольная матрица')\n",
    "M = np.array([\n",
    "    [1, 34, -2], \n",
    "    [9, 4, 0]\n",
    "])\n",
    "M"
   ]
  },
  {
   "cell_type": "markdown",
   "metadata": {},
   "source": [
    "#### Квадратные матрицы\n",
    "\n",
    "Квадратные матрицы - те, у которых количество строк $ n $ совпадает с количеством столбцов $ m $, т.е. $ n $ $ = $ $ m $"
   ]
  },
  {
   "cell_type": "code",
   "execution_count": 8,
   "metadata": {},
   "outputs": [
    {
     "name": "stdout",
     "output_type": "stream",
     "text": [
      "Квадратная матрица:\n"
     ]
    },
    {
     "data": {
      "text/plain": [
       "array([[1, 2, 3],\n",
       "       [4, 5, 6],\n",
       "       [7, 8, 9]])"
      ]
     },
     "execution_count": 8,
     "metadata": {},
     "output_type": "execute_result"
    }
   ],
   "source": [
    "print('Квадратная матрица:')\n",
    "S = np.array([\n",
    "    [1, 2, 3],\n",
    "    [4, 5, 6],\n",
    "    [7, 8, 9]\n",
    "])\n",
    "S"
   ]
  },
  {
   "cell_type": "markdown",
   "metadata": {},
   "source": [
    "#### Порядок матрицы\n",
    "\n",
    "Порядок для квадртатной матрицы - количество строк / столбцов в ней"
   ]
  },
  {
   "cell_type": "code",
   "execution_count": 9,
   "metadata": {},
   "outputs": [
    {
     "name": "stdout",
     "output_type": "stream",
     "text": [
      "Квадратная матрица с порядком 2:\n"
     ]
    },
    {
     "data": {
      "text/plain": [
       "array([[1, 2],\n",
       "       [4, 5]])"
      ]
     },
     "execution_count": 9,
     "metadata": {},
     "output_type": "execute_result"
    }
   ],
   "source": [
    "print('Квадратная матрица с порядком 2:')\n",
    "S = np.array([\n",
    "    [1, 2],\n",
    "    [4, 5]\n",
    "])\n",
    "S"
   ]
  },
  {
   "cell_type": "code",
   "execution_count": 10,
   "metadata": {},
   "outputs": [
    {
     "data": {
      "text/plain": [
       "array([1, 2])"
      ]
     },
     "execution_count": 10,
     "metadata": {},
     "output_type": "execute_result"
    }
   ],
   "source": [
    "S[0]"
   ]
  },
  {
   "cell_type": "markdown",
   "metadata": {},
   "source": [
    "#### Вектор-столбец\n",
    "\n",
    "Вектор-столбец - матрица размера $(n, 1)$"
   ]
  },
  {
   "cell_type": "markdown",
   "metadata": {},
   "source": [
    "$$\n",
    "\\begin{pmatrix}\n",
    "1 \\\\\n",
    "2 \\\\\n",
    "3\n",
    "\\end{pmatrix}\n",
    "$$"
   ]
  },
  {
   "cell_type": "markdown",
   "metadata": {},
   "source": [
    "#### Вектор-строка\n",
    "\n",
    "Вектор-строка - матрица размера $(1, m)$"
   ]
  },
  {
   "cell_type": "markdown",
   "metadata": {},
   "source": [
    "$$\n",
    "\\begin{pmatrix}\n",
    "1 & 2 & 3\n",
    "\\end{pmatrix}\n",
    "$$"
   ]
  },
  {
   "cell_type": "markdown",
   "metadata": {},
   "source": [
    "#### Столбец и строка в `numpy`"
   ]
  },
  {
   "cell_type": "markdown",
   "metadata": {},
   "source": [
    "В `numpy` чаще всего мы используем понятие \"вектор\" как **одномерынй массив**: $(n,)$. Этот \"обычный вектор\" не является ли строкой, ни столбцом. \n",
    "\n",
    "Рассмотрим детальнее разницу между тремя понятиями:"
   ]
  },
  {
   "cell_type": "markdown",
   "metadata": {},
   "source": [
    "**\"обычный вектор\" в `numpy`**\n",
    "\n",
    "- математика: $(n, )$\n",
    "\n",
    "- код:\n",
    "    ```python\n",
    "    np.array([1, 2, 3])\n",
    "    ```"
   ]
  },
  {
   "cell_type": "code",
   "execution_count": 8,
   "metadata": {},
   "outputs": [
    {
     "name": "stdout",
     "output_type": "stream",
     "text": [
      "[1 2 3]\n"
     ]
    },
    {
     "data": {
      "text/plain": [
       "array([1, 2, 3])"
      ]
     },
     "execution_count": 8,
     "metadata": {},
     "output_type": "execute_result"
    }
   ],
   "source": [
    "print(np.array([1, 2, 3]))\n",
    "np.array([1, 2, 3])"
   ]
  },
  {
   "cell_type": "markdown",
   "metadata": {},
   "source": [
    "**вектор-строка в `numpy`**\n",
    "\n",
    "- математика: $(1, 3)$\n",
    "\n",
    "- код:\n",
    "    ```python\n",
    "    np.array([[1, 2, 3]])\n",
    "    ```"
   ]
  },
  {
   "cell_type": "code",
   "execution_count": 9,
   "metadata": {},
   "outputs": [
    {
     "name": "stdout",
     "output_type": "stream",
     "text": [
      "[[1 2 3]]\n"
     ]
    },
    {
     "data": {
      "text/plain": [
       "array([[1, 2, 3]])"
      ]
     },
     "execution_count": 9,
     "metadata": {},
     "output_type": "execute_result"
    }
   ],
   "source": [
    "print(np.array([[1, 2, 3]]))\n",
    "np.array([[1, 2, 3]])"
   ]
  },
  {
   "cell_type": "markdown",
   "metadata": {},
   "source": [
    "**вектор-столбец в `numpy`**\n",
    "\n",
    "- математика: $(3, 1)$\n",
    "\n",
    "- код:\n",
    "```python\n",
    "np.array([[1], [2], [3]])\n",
    "```"
   ]
  },
  {
   "cell_type": "code",
   "execution_count": 10,
   "metadata": {},
   "outputs": [
    {
     "name": "stdout",
     "output_type": "stream",
     "text": [
      "[[1]\n",
      " [2]\n",
      " [3]]\n"
     ]
    },
    {
     "data": {
      "text/plain": [
       "array([[1],\n",
       "       [2],\n",
       "       [3]])"
      ]
     },
     "execution_count": 10,
     "metadata": {},
     "output_type": "execute_result"
    }
   ],
   "source": [
    "print(np.array([[1], [2], [3]]))\n",
    "np.array([[1], [2], [3]])"
   ]
  },
  {
   "cell_type": "markdown",
   "metadata": {},
   "source": [
    "> ❗️ Популярные функции `numpy` поддерживают работу с форматом $(n,)$, он же `np.array([1, 2, 3])`. Но в матричных операциях и траспонировании, которые мы будем использовать, приходится использовать форму $(1, n)$ или $(n, 1)$ в зависимости от размерности матрицы  "
   ]
  },
  {
   "cell_type": "markdown",
   "metadata": {},
   "source": [
    "## Классификация матриц по содержанию"
   ]
  },
  {
   "cell_type": "markdown",
   "metadata": {},
   "source": [
    "#### Нулевая матрица\n",
    "\n",
    "**Нулевая матрица** - та, у которой все элементы являются нулём. Формально это записывается так:\n",
    "\n",
    "$$\n",
    "A = (a_{ij}), \\quad \\forall a_{ij} = 0.\n",
    "$$\n"
   ]
  },
  {
   "cell_type": "code",
   "execution_count": 11,
   "metadata": {},
   "outputs": [
    {
     "name": "stdout",
     "output_type": "stream",
     "text": [
      "Нулевая матрица:\n",
      "[[0 0 0]\n",
      " [0 0 0]\n",
      " [0 0 0]]\n"
     ]
    }
   ],
   "source": [
    "print('Нулевая матрица:')\n",
    "print(np.array([[0, 0, 0], [0, 0, 0], [0, 0, 0]]))"
   ]
  },
  {
   "cell_type": "markdown",
   "metadata": {},
   "source": [
    "#### Матрица-единица, или матрица единиц\n",
    "\n",
    "**Матрица-единица** - матрица, у которой все элементы являются единицей. Формально записываем так: \n",
    "\n",
    "$$\n",
    "A = (a_{ij}), \\quad \\forall a_{ij} = 1.\n",
    "$$"
   ]
  },
  {
   "cell_type": "code",
   "execution_count": 13,
   "metadata": {},
   "outputs": [
    {
     "name": "stdout",
     "output_type": "stream",
     "text": [
      "Матрица-единица:\n",
      "[[1 1]\n",
      " [1 1]\n",
      " [1 1]]\n"
     ]
    }
   ],
   "source": [
    "print('Матрица-единица:')\n",
    "print(np.array([[1, 1], [1, 1], [1, 1]]))"
   ]
  },
  {
   "cell_type": "markdown",
   "metadata": {},
   "source": [
    "> Не путайте **матрицу-единицу** и **единичную** матрицу!"
   ]
  },
  {
   "cell_type": "markdown",
   "metadata": {},
   "source": [
    "#### Треугольная матрица\n",
    "\n",
    "**Треугольная матрица** - квадратная матрица, у которой элементы выше или ниже главной диагонали равны $0$\n",
    "\n",
    "Формально мы можем записать так:\n",
    "\n",
    "$$\n",
    "A_{\\text{ нижнетреугольная}} = (a_{ij}), \\quad \n",
    "a_{ij} =\n",
    "\\begin{cases} \n",
    "a_{ij} \\neq 0, & \\text{при } i \\geq j, \\\\\n",
    "a_{ij} = 0, & \\text{при } i < j\n",
    "\\end{cases}\n",
    "$$\n",
    "$$\n",
    "A_{\\text{ верхнетреугольная}} = (a_{ij}), \\quad \n",
    "a_{ij} =\n",
    "\\begin{cases} \n",
    "a_{ij} = 0, & \\text{при } i > j, \\\\\n",
    "a_{ij} \\neq 0, & \\text{при } i \\leq j\n",
    "\\end{cases}\n",
    "$$"
   ]
  },
  {
   "cell_type": "code",
   "execution_count": 14,
   "metadata": {},
   "outputs": [
    {
     "name": "stdout",
     "output_type": "stream",
     "text": [
      "Треугольная матрица:\n",
      "[[ 2.   0.   0. ]\n",
      " [ 1.  -1.   0. ]\n",
      " [ 7.5  8.   1. ]]\n"
     ]
    }
   ],
   "source": [
    "print('Треугольная матрица:')\n",
    "print(np.array([[2, 0, 0], [1, -1, 0], [7.5, 8, 1]]))"
   ]
  },
  {
   "cell_type": "markdown",
   "metadata": {},
   "source": [
    "#### Симметричная матрица\n",
    "\n",
    "**Симметричная матрица** - квадратная матрица, у которой элементы равны друг другу относительно главной диагонали. \n",
    "\n",
    "Формальная запись:\n",
    "\n",
    "$$\n",
    "S = (s_{ij}), \\quad s_{ij} = s_{ji} \\, \\forall i, j.\n",
    "$$"
   ]
  },
  {
   "cell_type": "code",
   "execution_count": 24,
   "metadata": {},
   "outputs": [
    {
     "name": "stdout",
     "output_type": "stream",
     "text": [
      "Симметричная матрица:\n",
      "[[ 2 -1 15  7]\n",
      " [-1 16 -9  0]\n",
      " [15 -9 10 32]\n",
      " [ 7  0 32  8]]\n"
     ]
    }
   ],
   "source": [
    "print('Симметричная матрица:')\n",
    "print(np.array([[2, -1, 15, 7], [-1, 16, -9, 0], \n",
    "                [15, -9, 10, 32], [7, 0, 32, 8]]))"
   ]
  },
  {
   "cell_type": "markdown",
   "metadata": {},
   "source": [
    "#### Диагональная матрица"
   ]
  },
  {
   "cell_type": "markdown",
   "metadata": {},
   "source": [
    "**Диагональная матрица** - симметричная матрица, у которой вне главой диагонали стоят только $0$. \n",
    "\n",
    "Запишем её формально:\n",
    "\n",
    "$$\n",
    "S = (s_{ij}) = \n",
    "\\begin{cases} \n",
    "s_{ij} = s_{ji} = 0, & \\text{при } i \\neq j, \\\\\n",
    "s_{ij} \\neq 0, & \\text{при } i = j.\n",
    "\\end{cases}\n",
    "$$\n",
    "\n",
    "Диагональная матрица часто используется, поэтому есть более краткая запись:\n",
    "\n",
    "$$\n",
    "S = \\operatorname{diag}(\\alpha_1, \\alpha_2, \\dots, \\alpha_n),\n",
    "$$\n",
    "\n",
    "$\\alpha_i$ - элементы на главной диагонали"
   ]
  },
  {
   "cell_type": "code",
   "execution_count": 25,
   "metadata": {},
   "outputs": [
    {
     "name": "stdout",
     "output_type": "stream",
     "text": [
      "Диагональная матрица:\n",
      "[[ -9   0   0]\n",
      " [  0   5   0]\n",
      " [  0   0 127]]\n"
     ]
    }
   ],
   "source": [
    "print('Диагональная матрица:')\n",
    "print(np.array([[-9, 0, 0], [0, 5, 0], [0, 0, 127]]))"
   ]
  },
  {
   "cell_type": "markdown",
   "metadata": {},
   "source": [
    "#### Скалярная матрица\n",
    "\n",
    "**Скалярная матрица** - диагональная матрица, у которой по диагонали стоит одно и тоже число $ \\alpha $ . Запишем формально:\n",
    "\n",
    "$$\n",
    "S = (s_{ij}) =\n",
    "\\begin{cases} \n",
    "s_{ij} = 0, & \\text{при } i \\neq j, \\\\\n",
    "s_{ij} = \\alpha, & \\text{при } i = j.\n",
    "\\end{cases}\n",
    "$$\n",
    "\n",
    "Скалярная матрица также часто используется, поэтому у неё тоже есть краткая запись:\n",
    "\n",
    "$$\n",
    "S = \\operatorname{diag}(\\alpha)\n",
    "$$"
   ]
  },
  {
   "cell_type": "code",
   "execution_count": 26,
   "metadata": {},
   "outputs": [
    {
     "name": "stdout",
     "output_type": "stream",
     "text": [
      "Скалярная матрица:\n",
      "[[14  0  0]\n",
      " [ 0 14  0]\n",
      " [ 0  0 14]]\n"
     ]
    }
   ],
   "source": [
    "print('Скалярная матрица:')\n",
    "print(np.array([[14, 0, 0], [0, 14, 0], [0, 0, 14]]))"
   ]
  },
  {
   "cell_type": "markdown",
   "metadata": {},
   "source": [
    "#### Единичная матрица\n",
    "\n",
    "**Единичная матрица** - скалярная матрица, у которой $\\alpha = 1$. Единичная матрица настолько важная, что у неё есть специальное обозначение - латинская буква $E$\n",
    "\n",
    "$$\n",
    "E = (e_{ij}) =\n",
    "\\begin{cases} \n",
    "e_{ij} = 0, & \\text{при } i \\neq j, \\\\\n",
    "e_{ij} = 1, & \\text{при } i = j.\n",
    "\\end{cases}\n",
    "$$"
   ]
  },
  {
   "cell_type": "code",
   "execution_count": 27,
   "metadata": {},
   "outputs": [
    {
     "name": "stdout",
     "output_type": "stream",
     "text": [
      "Единичная матрица:\n",
      "[[1 0 0]\n",
      " [0 1 0]\n",
      " [0 0 1]]\n"
     ]
    }
   ],
   "source": [
    "print('Единичная матрица:')\n",
    "print(np.array([[1, 0, 0], [0, 1, 0], [0, 0, 1]]))"
   ]
  },
  {
   "cell_type": "markdown",
   "metadata": {},
   "source": [
    "## Сложение матриц"
   ]
  },
  {
   "cell_type": "markdown",
   "metadata": {},
   "source": [
    "**Сложение матриц** между собой аналогично сложению векторов. Матрицы складываются и вычитаются между собой поэлементно. \n",
    "\n",
    "> Складывать и вычитать можно только матрицы одинакового размера"
   ]
  },
  {
   "cell_type": "markdown",
   "metadata": {},
   "source": [
    "$$\n",
    "C = A + B =\n",
    "\\begin{pmatrix}\n",
    "a_{11} & a_{12} & \\cdots & a_{1m} \\\\\n",
    "a_{21} & a_{22} & \\cdots & a_{2m} \\\\\n",
    "\\vdots & \\vdots & \\ddots & \\vdots \\\\\n",
    "a_{n1} & a_{n2} & \\cdots & a_{nm}\n",
    "\\end{pmatrix}\n",
    "+\n",
    "\\begin{pmatrix}\n",
    "b_{11} & b_{12} & \\cdots & b_{1m} \\\\\n",
    "b_{21} & b_{22} & \\cdots & b_{2m} \\\\\n",
    "\\vdots & \\vdots & \\ddots & \\vdots \\\\\n",
    "b_{n1} & b_{n2} & \\cdots & b_{nm}\n",
    "\\end{pmatrix}\n",
    "=\n",
    "$$\n",
    "\n",
    "$$\n",
    "=\n",
    "\\begin{pmatrix}\n",
    "a_{11} + b_{11} & a_{12} + b_{12} & \\cdots & a_{1m} + b_{1m} \\\\\n",
    "a_{21} + b_{21} & a_{22} + b_{22} & \\cdots & a_{2m} + b_{2m} \\\\\n",
    "\\vdots & \\vdots & \\ddots & \\vdots \\\\\n",
    "a_{n1} + b_{n1} & a_{n2} + b_{n2} & \\cdots & a_{nm} + b_{nm}\n",
    "\\end{pmatrix}\n",
    "=\n",
    "\\begin{pmatrix}\n",
    "c_{11} & c_{12} & \\cdots & c_{1m} \\\\\n",
    "c_{21} & c_{22} & \\cdots & c_{2m} \\\\\n",
    "\\vdots & \\vdots & \\ddots & \\vdots \\\\\n",
    "c_{n1} & c_{n2} & \\cdots & c_{nm}\n",
    "\\end{pmatrix}\n",
    "$$\n"
   ]
  },
  {
   "cell_type": "markdown",
   "metadata": {},
   "source": [
    "#### Пример"
   ]
  },
  {
   "attachments": {
    "image.png": {
     "image/png": "[encoded data removed]"
    }
   },
   "cell_type": "markdown",
   "metadata": {},
   "source": [
    "![image.png](attachment:image.png)"
   ]
  },
  {
   "cell_type": "markdown",
   "metadata": {},
   "source": [
    "## Умножение матриц на скаляр"
   ]
  },
  {
   "cell_type": "markdown",
   "metadata": {},
   "source": [
    "Умножение матрицы на скаляр $\\omega \\in \\mathbb{R}$ аналогично векторной операции: каждый элемент матрицы умножается на число $\\omega$ \n",
    "\n",
    "> Числовые множители также можно выносить из матрицы\n"
   ]
  },
  {
   "cell_type": "markdown",
   "metadata": {},
   "source": [
    "Пусть задана матрица $A = (a_{ij})$ размером $\\dim(A) = (n, m)$ и число $\\omega \\in \\mathbb{R}$. Произведением матрицы $A$ и числа $\\omega$ называется матрица $B = (b_{ij})$ размером $\\dim(B) = (n, m)$, такая, что $b_{ij} = \\omega \\cdot a_{ij}$, или:\n",
    "\n",
    "$$\n",
    "B = \\omega \\cdot A = \\omega \\cdot \n",
    "\\begin{pmatrix}\n",
    "a_{11} & a_{12} & \\cdots & a_{1m} \\\\\n",
    "a_{21} & a_{22} & \\cdots & a_{2m} \\\\\n",
    "\\vdots & \\vdots & \\ddots & \\vdots \\\\\n",
    "a_{n1} & a_{n2} & \\cdots & a_{nm}\n",
    "\\end{pmatrix}\n",
    "=\n",
    "\\begin{pmatrix}\n",
    "\\omega \\cdot a_{11} & \\omega \\cdot a_{12} & \\cdots & \\omega \\cdot a_{1m} \\\\\n",
    "\\omega \\cdot a_{21} & \\omega \\cdot a_{22} & \\cdots & \\omega \\cdot a_{2m} \\\\\n",
    "\\vdots & \\vdots & \\ddots & \\vdots \\\\\n",
    "\\omega \\cdot a_{n1} & \\omega \\cdot a_{n2} & \\cdots & \\omega \\cdot a_{nm}\n",
    "\\end{pmatrix}\n",
    "=\n",
    "\\begin{pmatrix}\n",
    "b_{11} & b_{12} & \\cdots & b_{1m} \\\\\n",
    "b_{21} & b_{22} & \\cdots & b_{2m} \\\\\n",
    "\\vdots & \\vdots & \\ddots & \\vdots \\\\\n",
    "b_{n1} & b_{n2} & \\cdots & b_{nm}\n",
    "\\end{pmatrix}\n",
    "$$"
   ]
  },
  {
   "cell_type": "markdown",
   "metadata": {},
   "source": [
    "#### Пример"
   ]
  },
  {
   "attachments": {
    "image.png": {
     "image/png": "[encoded data removed]"
    }
   },
   "cell_type": "markdown",
   "metadata": {},
   "source": [
    "![image.png](attachment:image.png)"
   ]
  },
  {
   "attachments": {
    "image.png": {
     "image/png": "[encoded data removed]"
    }
   },
   "cell_type": "markdown",
   "metadata": {},
   "source": [
    "![image.png](attachment:image.png)"
   ]
  },
  {
   "cell_type": "markdown",
   "metadata": {},
   "source": [
    "## Транспонирование матриц"
   ]
  },
  {
   "cell_type": "markdown",
   "metadata": {},
   "source": [
    "**Операция транспонирования** — матричная операция, при которой строки и столбцы меняются местами. \n",
    "\n",
    "Мы записываем транспонирование как $A^T$"
   ]
  },
  {
   "cell_type": "markdown",
   "metadata": {},
   "source": [
    "\n",
    "$$\n",
    "A^T =\n",
    "\\begin{pmatrix}\n",
    "a_{11} & a_{12} & \\cdots & a_{1m} \\\\\n",
    "a_{21} & a_{22} & \\cdots & a_{2m} \\\\\n",
    "\\vdots & \\vdots & \\ddots & \\vdots \\\\\n",
    "a_{n1} & a_{n2} & \\cdots & a_{nm}\n",
    "\\end{pmatrix}^T\n",
    "=\n",
    "\\begin{pmatrix}\n",
    "a_{11} & a_{21} & \\cdots & a_{n1} \\\\\n",
    "a_{12} & a_{22} & \\cdots & a_{n2} \\\\\n",
    "\\vdots & \\vdots & \\ddots & \\vdots \\\\\n",
    "a_{1m} & a_{2m} & \\cdots & a_{nm}\n",
    "\\end{pmatrix}\n",
    "$$"
   ]
  },
  {
   "cell_type": "markdown",
   "metadata": {},
   "source": [
    "> При транспонировании главная диагональ матрицы не меняется!\n",
    "\n",
    "> Двойное транспонирование возвращает матрицу к первичному виду 😉 "
   ]
  },
  {
   "cell_type": "markdown",
   "metadata": {},
   "source": [
    "Операция транспонирования простая, но при этом очень полезная, часто используется. Так, транспонирование очень пригодится при методе наименьших квадратов"
   ]
  },
  {
   "cell_type": "markdown",
   "metadata": {},
   "source": [
    "### Транспонирование векторов"
   ]
  },
  {
   "cell_type": "markdown",
   "metadata": {},
   "source": [
    "Всё просто: транспонируя вектор-столбец, мы получаем вектор-строку:\n",
    "\n",
    "$$\n",
    "\\begin{pmatrix}\n",
    "7 \\\\\n",
    "5 \\\\\n",
    "1\n",
    "\\end{pmatrix} ^ T = \n",
    "\n",
    "\\begin{pmatrix}\n",
    "7 & 5 & 1\n",
    "\\end{pmatrix}\n",
    "$$"
   ]
  },
  {
   "cell_type": "markdown",
   "metadata": {},
   "source": [
    "Чаще всего в математической традиции под вектором мы подразумеваем *вектор-столбец*, из $m$ чисел\n",
    "\n",
    "$$\n",
    "\\vec v = \n",
    "\\begin{pmatrix}\n",
    "v_1 \\\\\n",
    "v_2 \\\\\n",
    "... \\\\\n",
    "v_m\n",
    "\\end{pmatrix}\n",
    "$$"
   ]
  },
  {
   "cell_type": "markdown",
   "metadata": {},
   "source": [
    "Но в учебниках и статьях писать вертикально неудобно, поэтому чаще мы видим запись: \n",
    "$$\n",
    "\\vec v = (v_1, v_2, ..., v_m)^T\n",
    "$$"
   ]
  },
  {
   "cell_type": "markdown",
   "metadata": {},
   "source": [
    "### Транспонирование симметричных матриц"
   ]
  },
  {
   "cell_type": "markdown",
   "metadata": {},
   "source": [
    "Попробуем транспонировать пару семмитричных матриц:"
   ]
  },
  {
   "cell_type": "markdown",
   "metadata": {},
   "source": [
    "$$\n",
    "A = \\begin{pmatrix}\n",
    "1 & 0 & 0 \\\\\n",
    "0 & 5 & 0 \\\\\n",
    "0 & 0 & 7\n",
    "\\end{pmatrix} \\Rightarrow A^T = \\begin{pmatrix}\n",
    "1 & 0 & 0 \\\\\n",
    "0 & 5 & 0 \\\\\n",
    "0 & 0 & 7\n",
    "\\end{pmatrix}\n",
    "$$"
   ]
  },
  {
   "cell_type": "markdown",
   "metadata": {},
   "source": [
    "$$\n",
    "S = \\begin{pmatrix}\n",
    "1 & 2 & 4 \\\\\n",
    "2 & 5 & -1 \\\\\n",
    "4 & -1 & 7\n",
    "\\end{pmatrix} \\Rightarrow S^T = \\begin{pmatrix}\n",
    "1 & 2 & 4 \\\\\n",
    "2 & 5 & -1 \\\\\n",
    "4 & -1 & 7 \\end{pmatrix}\n",
    "$$"
   ]
  },
  {
   "cell_type": "markdown",
   "metadata": {},
   "source": [
    "При транспонировании матрицы $A$ и $S$ не изменились: симметричные матрицы не изменяются от операций транспонироваия. Этим выводом мы ещё будем активно пользоваться"
   ]
  },
  {
   "cell_type": "markdown",
   "metadata": {},
   "source": [
    "## Применение базовых операций для CV "
   ]
  },
  {
   "cell_type": "markdown",
   "metadata": {},
   "source": [
    "Даже наших операций с матрицами достаточно, чтобы решить простую задачу по обрабокте изображений"
   ]
  },
  {
   "cell_type": "markdown",
   "metadata": {},
   "source": []
  },
  {
   "cell_type": "code",
   "execution_count": null,
   "metadata": {},
   "outputs": [],
   "source": []
  }
 ],
 "metadata": {
  "kernelspec": {
   "display_name": "Python 3",
   "language": "python",
   "name": "python3"
  },
  "language_info": {
   "codemirror_mode": {
    "name": "ipython",
    "version": 3
   },
   "file_extension": ".py",
   "mimetype": "text/x-python",
   "name": "python",
   "nbconvert_exporter": "python",
   "pygments_lexer": "ipython3",
   "version": "3.12.2"
  }
 },
 "nbformat": 4,
 "nbformat_minor": 2
}

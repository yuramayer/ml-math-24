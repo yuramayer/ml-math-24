{
 "cells": [
  {
   "cell_type": "markdown",
   "metadata": {},
   "source": [
    "# Векторы. Задания"
   ]
  },
  {
   "cell_type": "markdown",
   "metadata": {},
   "source": [
    "### Пара определений"
   ]
  },
  {
   "cell_type": "markdown",
   "metadata": {},
   "source": [
    "**Норма вектора** - корень из суммы квадратов компонент. По сути норма показывает, насколько вектор \"большой\""
   ]
  },
  {
   "cell_type": "markdown",
   "metadata": {},
   "source": [
    "**Длина вектора** - в физическом смысле тоже самое, что и норма "
   ]
  },
  {
   "cell_type": "markdown",
   "metadata": {},
   "source": [
    "**Нормирование вектора** - получение вектора с тем же направлением, что и исходный, но с нормой $1$"
   ]
  },
  {
   "cell_type": "markdown",
   "metadata": {},
   "source": [
    "## Задачки"
   ]
  },
  {
   "cell_type": "code",
   "execution_count": 1,
   "metadata": {},
   "outputs": [],
   "source": [
    "import sys\n",
    "import os\n",
    "\n",
    "project_root = os.path.abspath(\"..\")\n",
    "if project_root not in sys.path:\n",
    "    sys.path.append(project_root)"
   ]
  },
  {
   "cell_type": "code",
   "execution_count": 2,
   "metadata": {},
   "outputs": [],
   "source": [
    "from ans.hw_1_ans import check_task\n",
    "from ans.hw_1_ans import ans_1"
   ]
  },
  {
   "cell_type": "markdown",
   "metadata": {},
   "source": [
    "В `Hut_Paradise_DF` представлен фрагмент базы данных агентства «Рай в Шалаше». По строкам расположены квартиры, по столбцам — параметры: арендная плата, общая площадь, количество комнат, этаж, количество показов на две недели и жилая площадь:"
   ]
  },
  {
   "cell_type": "code",
   "execution_count": 3,
   "metadata": {},
   "outputs": [],
   "source": [
    "import pandas as pd\n",
    "\n",
    "Hut_Paradise_DF = pd.DataFrame({\n",
    "    '1.Rent': [65, 70, 120, 35, 40, 50, 100, 90, 85], \n",
    "    '2.Area': [50, 52, 80, 33, 33, 44, 80, 65, 65], \n",
    "    '3.Rooms':[3, 2, 1, 1, 1, 2, 4, 3, 2],\n",
    "    '4.Floor':[5, 12, 10, 3, 6, 13, 8, 21, 5], \n",
    "    '5.Demo two weeks':[8, 4, 5, 10, 20, 12, 5, 1, 10], \n",
    "    '6.Liv.Area': [37, 40, 65, 20, 16, 35, 60, 50, 40]\n",
    "})"
   ]
  },
  {
   "cell_type": "code",
   "execution_count": 4,
   "metadata": {},
   "outputs": [
    {
     "data": {
      "text/html": [
       "<div>\n",
       "<style scoped>\n",
       "    .dataframe tbody tr th:only-of-type {\n",
       "        vertical-align: middle;\n",
       "    }\n",
       "\n",
       "    .dataframe tbody tr th {\n",
       "        vertical-align: top;\n",
       "    }\n",
       "\n",
       "    .dataframe thead th {\n",
       "        text-align: right;\n",
       "    }\n",
       "</style>\n",
       "<table border=\"1\" class=\"dataframe\">\n",
       "  <thead>\n",
       "    <tr style=\"text-align: right;\">\n",
       "      <th></th>\n",
       "      <th>1.Rent</th>\n",
       "      <th>2.Area</th>\n",
       "      <th>3.Rooms</th>\n",
       "      <th>4.Floor</th>\n",
       "      <th>5.Demo two weeks</th>\n",
       "      <th>6.Liv.Area</th>\n",
       "    </tr>\n",
       "  </thead>\n",
       "  <tbody>\n",
       "    <tr>\n",
       "      <th>0</th>\n",
       "      <td>65</td>\n",
       "      <td>50</td>\n",
       "      <td>3</td>\n",
       "      <td>5</td>\n",
       "      <td>8</td>\n",
       "      <td>37</td>\n",
       "    </tr>\n",
       "  </tbody>\n",
       "</table>\n",
       "</div>"
      ],
      "text/plain": [
       "   1.Rent  2.Area  3.Rooms  4.Floor  5.Demo two weeks  6.Liv.Area\n",
       "0      65      50        3        5                 8          37"
      ]
     },
     "execution_count": 4,
     "metadata": {},
     "output_type": "execute_result"
    }
   ],
   "source": [
    "Hut_Paradise_DF.head(1)"
   ]
  },
  {
   "cell_type": "markdown",
   "metadata": {},
   "source": [
    "Найдите вектор параметров квартиры номер $5$ \n",
    "\n",
    "> Для преобразования `DataFrame` в массив `numpy` можно воспользоваться атрибутом `values`:\n"
   ]
  },
  {
   "cell_type": "code",
   "execution_count": 5,
   "metadata": {},
   "outputs": [],
   "source": [
    "Hut_Paradise_values = Hut_Paradise_DF.values"
   ]
  },
  {
   "cell_type": "code",
   "execution_count": 6,
   "metadata": {},
   "outputs": [],
   "source": [
    "# ваше решение здесь\n",
    "\n",
    "your_vec = [1,]"
   ]
  },
  {
   "cell_type": "code",
   "execution_count": 7,
   "metadata": {},
   "outputs": [
    {
     "ename": "AssertionError",
     "evalue": "",
     "output_type": "error",
     "traceback": [
      "\u001b[1;31m---------------------------------------------------------------------------\u001b[0m",
      "\u001b[1;31mAssertionError\u001b[0m                            Traceback (most recent call last)",
      "Cell \u001b[1;32mIn[7], line 3\u001b[0m\n\u001b[0;32m      1\u001b[0m \u001b[38;5;66;03m# в конце выполни ячейку и проверь свой ответ\u001b[39;00m\n\u001b[1;32m----> 3\u001b[0m \u001b[43mcheck_task\u001b[49m\u001b[43m(\u001b[49m\u001b[43myour_vec\u001b[49m\u001b[43m,\u001b[49m\u001b[43m \u001b[49m\u001b[43mans_1\u001b[49m\u001b[43m)\u001b[49m\n",
      "File \u001b[1;32md:\\pycode24\\ml-math-24\\hws\\hw_1\\ans\\hw_1_ans.py:5\u001b[0m, in \u001b[0;36mcheck_task\u001b[1;34m(your_answer, right_answer)\u001b[0m\n\u001b[0;32m      4\u001b[0m \u001b[38;5;28;01mdef\u001b[39;00m \u001b[38;5;21mcheck_task\u001b[39m(your_answer, right_answer):\n\u001b[1;32m----> 5\u001b[0m     \u001b[38;5;28;01massert\u001b[39;00m np\u001b[38;5;241m.\u001b[39marray_equal(your_answer, right_answer)\n",
      "\u001b[1;31mAssertionError\u001b[0m: "
     ]
    }
   ],
   "source": [
    "# в конце выполни ячейку и проверь свой ответ\n",
    "\n",
    "check_task(your_vec, ans_1)"
   ]
  },
  {
   "cell_type": "markdown",
   "metadata": {},
   "source": [
    "Найдите вектор этажей всех квартир\n"
   ]
  },
  {
   "cell_type": "code",
   "execution_count": 11,
   "metadata": {},
   "outputs": [],
   "source": [
    "# ваше решение здесь\n",
    "\n",
    "vec = ..."
   ]
  },
  {
   "cell_type": "code",
   "execution_count": null,
   "metadata": {},
   "outputs": [],
   "source": [
    "# check_task(vec, ans_2)"
   ]
  },
  {
   "cell_type": "markdown",
   "metadata": {},
   "source": [
    "Вычислите вектор нежилой площади. Выберите координаты полученного вектора."
   ]
  },
  {
   "cell_type": "markdown",
   "metadata": {},
   "source": [
    "Пусть в первой квартире один просмотр занимает 10 минут, во второй — 20 минут, в третьей — полчаса, в четверой —  15 минут, в пятой — 5 минут, в шестой — 40 минут, в седьмой — 20 минут, в восьмой — 8 минут и в девятой —  20 минут.\n",
    "\n",
    "Найдите продолжительность просмотров в минутах во всех квартирах за две недели"
   ]
  },
  {
   "cell_type": "markdown",
   "metadata": {},
   "source": []
  }
 ],
 "metadata": {
  "kernelspec": {
   "display_name": "Python 3",
   "language": "python",
   "name": "python3"
  },
  "language_info": {
   "codemirror_mode": {
    "name": "ipython",
    "version": 3
   },
   "file_extension": ".py",
   "mimetype": "text/x-python",
   "name": "python",
   "nbconvert_exporter": "python",
   "pygments_lexer": "ipython3",
   "version": "3.12.2"
  }
 },
 "nbformat": 4,
 "nbformat_minor": 2
}
